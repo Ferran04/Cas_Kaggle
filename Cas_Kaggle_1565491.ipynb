{
 "cells": [
  {
   "cell_type": "markdown",
   "id": "1ebf6f7a",
   "metadata": {},
   "source": [
    "# Practica de Cas Kaggle\n",
    "\n",
    "## Entenent La Base De Dades\n",
    "\n",
    "Ens trobem amb una base de dades de Pokemon. Cal considerar, per aquesta practica el seguent:\n",
    "* Els Pokemon tenen diferents habilitats en funció del tipus de pokemon que siguin (pokemons tipus Normal, Aigua, Foc, Electric, Gel, ...)\n",
    "* En total hi han 18 tipus de pokemon.\n",
    "\n",
    "Tot i que no apareix a la BD, cal entendre que:\n",
    "\n",
    "* Cada Pokemon te una quantitat de punts de vida HP (Health Points)\n",
    "* Cada Pokemon te una serie de atacs especials, amb una quantitat X de dany determinada per a cada atac, que fa disminuir en X el HP del pokemon atacat.\n",
    "\n",
    "Tenim en compte que:\n",
    "\n",
    "* El tipus que sigui un pokemon influeix en la efectivitat dels seus atacs contra altres tipus de pokemon. Per exemple, els pokemon de tipus foc (com per exemple Flareon) son més debils contra pokemons de tipus aigua (com per exemple Vaporeon) pero no més debils que els pokemons de tipus electric (Com per exemple Jolteon). Per exemple, suposant que Flareon i Vaporeon tinguessin els mateixos HP, podriem assegurar que Vaporeon guanyaria a Flareon.\n",
    "\n",
    "Per tant podem dir que:\n",
    "\n",
    "* L'efectivitat dels atacs ve determinada, llavors, per un multiplicador sobre el dany del atac, que depen tant del tipus de pokemon del atacant com del tipus de pokemon del atacat.\n",
    "\n",
    "La base de dades te la següent informació per a cada fila:\n",
    "   * 1. Un atribut amb el nom del Pokemon\n",
    "   * 2. Un atribut amb el numero del Pokemon dins de la Pokedex (Llista de pokemons) -> Equivalent a un ID\n",
    "   * 3. Atributs que representen multiplicadors de dany que el pokemon en questió pot influir sobre altres tipus de pokemon --> un per cada tipus de pokemon rival\n",
    "\n",
    "Provem llavors a mirar el tamany de la BD:\n"
   ]
  },
  {
   "cell_type": "code",
   "execution_count": 196,
   "id": "61eb9d56",
   "metadata": {},
   "outputs": [
    {
     "name": "stdout",
     "output_type": "stream",
     "text": [
      "Dimensionalitat de la BBDD: (576, 20)\n",
      "Dimensionalitat de les entrades X (576, 2)\n",
      "Dimensionalitat de l'atribut Y (576,)\n"
     ]
    }
   ],
   "source": [
    "# IMPORTS\n",
    "import math\n",
    "import numpy as np\n",
    "import pandas as pd\n",
    "import scipy.stats\n",
    "from matplotlib import pyplot as plt\n",
    "%matplotlib inline\n",
    "import warnings\n",
    "warnings.filterwarnings('ignore')\n",
    "# IMPORTS LINEAR REGRESSION\n",
    "# from sklearn.linear_model import LinearRegression\n",
    "# from sklearn.metrics import r2_score\n",
    "# from mpl_toolkits.mplot3d import axes3d, Axes3D\n",
    "\n",
    "# IMPORTS DATA CLASSIFICATION:\n",
    "#from sklearn.linear_model import LogisticRegression\n",
    "#from sklearn import svm, datasets\n",
    "#from sklearn.model_selection import train_test_split\n",
    "#from sklearn.metrics import f1_score, precision_recall_curve, average_precision_score, roc_curve, auc\n",
    "\n",
    "\n",
    "# llegim el dataset\n",
    "pokemon_dataset = pd.read_csv('PokeTypeMatchupData.csv', header=0, delimiter=',')\n",
    "pokemon_data = pokemon_dataset.values\n",
    "\n",
    "x = pokemon_data[:, :2]\n",
    "y = pokemon_data[:, 2]\n",
    "\n",
    "print(\"Dimensionalitat de la BBDD:\", pokemon_dataset.shape)\n",
    "print(\"Dimensionalitat de les entrades X\", x.shape)\n",
    "print(\"Dimensionalitat de l'atribut Y\", y.shape)\n",
    "\n",
    "n_tipus = 18\n"
   ]
  },
  {
   "cell_type": "markdown",
   "id": "c4dfd7e5",
   "metadata": {},
   "source": [
    "Com podem veure, La base de dades té 20 atributs i 576 files. \n",
    "\n",
    "A continuació es mostra les 5 primeres files com a exemple del contingut:"
   ]
  },
  {
   "cell_type": "code",
   "execution_count": 197,
   "id": "11079e8d",
   "metadata": {},
   "outputs": [
    {
     "data": {
      "text/html": [
       "<div>\n",
       "<style scoped>\n",
       "    .dataframe tbody tr th:only-of-type {\n",
       "        vertical-align: middle;\n",
       "    }\n",
       "\n",
       "    .dataframe tbody tr th {\n",
       "        vertical-align: top;\n",
       "    }\n",
       "\n",
       "    .dataframe thead th {\n",
       "        text-align: right;\n",
       "    }\n",
       "</style>\n",
       "<table border=\"1\" class=\"dataframe\">\n",
       "  <thead>\n",
       "    <tr style=\"text-align: right;\">\n",
       "      <th></th>\n",
       "      <th>Name</th>\n",
       "      <th>Number</th>\n",
       "      <th>Normal</th>\n",
       "      <th>Fire</th>\n",
       "      <th>Water</th>\n",
       "      <th>Electric</th>\n",
       "      <th>Grass</th>\n",
       "      <th>Ice</th>\n",
       "      <th>Fighting</th>\n",
       "      <th>Poison</th>\n",
       "      <th>Ground</th>\n",
       "      <th>Flying</th>\n",
       "      <th>Psychic</th>\n",
       "      <th>Bug</th>\n",
       "      <th>Rock</th>\n",
       "      <th>Ghost</th>\n",
       "      <th>Dragon</th>\n",
       "      <th>Dark</th>\n",
       "      <th>Steel</th>\n",
       "      <th>Fairy</th>\n",
       "    </tr>\n",
       "  </thead>\n",
       "  <tbody>\n",
       "    <tr>\n",
       "      <th>0</th>\n",
       "      <td>Bulbasaur</td>\n",
       "      <td>#001</td>\n",
       "      <td>*1</td>\n",
       "      <td>*2</td>\n",
       "      <td>*0.5</td>\n",
       "      <td>*0.5</td>\n",
       "      <td>*0.25</td>\n",
       "      <td>*2</td>\n",
       "      <td>*0.5</td>\n",
       "      <td>*1</td>\n",
       "      <td>*1</td>\n",
       "      <td>*2</td>\n",
       "      <td>*2</td>\n",
       "      <td>*1</td>\n",
       "      <td>*1</td>\n",
       "      <td>*1</td>\n",
       "      <td>*1</td>\n",
       "      <td>*1</td>\n",
       "      <td>*1</td>\n",
       "      <td>*0.5</td>\n",
       "    </tr>\n",
       "    <tr>\n",
       "      <th>1</th>\n",
       "      <td>Ivysaur</td>\n",
       "      <td>#002</td>\n",
       "      <td>*1</td>\n",
       "      <td>*2</td>\n",
       "      <td>*0.5</td>\n",
       "      <td>*0.5</td>\n",
       "      <td>*0.25</td>\n",
       "      <td>*2</td>\n",
       "      <td>*0.5</td>\n",
       "      <td>*1</td>\n",
       "      <td>*1</td>\n",
       "      <td>*2</td>\n",
       "      <td>*2</td>\n",
       "      <td>*1</td>\n",
       "      <td>*1</td>\n",
       "      <td>*1</td>\n",
       "      <td>*1</td>\n",
       "      <td>*1</td>\n",
       "      <td>*1</td>\n",
       "      <td>*0.5</td>\n",
       "    </tr>\n",
       "    <tr>\n",
       "      <th>2</th>\n",
       "      <td>Venusaur</td>\n",
       "      <td>#003</td>\n",
       "      <td>*1</td>\n",
       "      <td>*2</td>\n",
       "      <td>*0.5</td>\n",
       "      <td>*0.5</td>\n",
       "      <td>*0.25</td>\n",
       "      <td>*2</td>\n",
       "      <td>*0.5</td>\n",
       "      <td>*1</td>\n",
       "      <td>*1</td>\n",
       "      <td>*2</td>\n",
       "      <td>*2</td>\n",
       "      <td>*1</td>\n",
       "      <td>*1</td>\n",
       "      <td>*1</td>\n",
       "      <td>*1</td>\n",
       "      <td>*1</td>\n",
       "      <td>*1</td>\n",
       "      <td>*0.5</td>\n",
       "    </tr>\n",
       "    <tr>\n",
       "      <th>3</th>\n",
       "      <td>Charmander</td>\n",
       "      <td>#004</td>\n",
       "      <td>*1</td>\n",
       "      <td>*0.5</td>\n",
       "      <td>*2</td>\n",
       "      <td>*1</td>\n",
       "      <td>*0.5</td>\n",
       "      <td>*0.5</td>\n",
       "      <td>*1</td>\n",
       "      <td>*1</td>\n",
       "      <td>*2</td>\n",
       "      <td>*1</td>\n",
       "      <td>*1</td>\n",
       "      <td>*0.5</td>\n",
       "      <td>*2</td>\n",
       "      <td>*1</td>\n",
       "      <td>*1</td>\n",
       "      <td>*1</td>\n",
       "      <td>*0.5</td>\n",
       "      <td>*0.5</td>\n",
       "    </tr>\n",
       "    <tr>\n",
       "      <th>4</th>\n",
       "      <td>Charmeleon</td>\n",
       "      <td>#005</td>\n",
       "      <td>*1</td>\n",
       "      <td>*0.5</td>\n",
       "      <td>*2</td>\n",
       "      <td>*1</td>\n",
       "      <td>*0.5</td>\n",
       "      <td>*0.5</td>\n",
       "      <td>*1</td>\n",
       "      <td>*1</td>\n",
       "      <td>*2</td>\n",
       "      <td>*1</td>\n",
       "      <td>*1</td>\n",
       "      <td>*0.5</td>\n",
       "      <td>*2</td>\n",
       "      <td>*1</td>\n",
       "      <td>*1</td>\n",
       "      <td>*1</td>\n",
       "      <td>*0.5</td>\n",
       "      <td>*0.5</td>\n",
       "    </tr>\n",
       "  </tbody>\n",
       "</table>\n",
       "</div>"
      ],
      "text/plain": [
       "         Name Number Normal  Fire Water Electric  Grass   Ice Fighting Poison  \\\n",
       "0   Bulbasaur   #001     *1    *2  *0.5     *0.5  *0.25    *2     *0.5     *1   \n",
       "1     Ivysaur   #002     *1    *2  *0.5     *0.5  *0.25    *2     *0.5     *1   \n",
       "2    Venusaur   #003     *1    *2  *0.5     *0.5  *0.25    *2     *0.5     *1   \n",
       "3  Charmander   #004     *1  *0.5    *2       *1   *0.5  *0.5       *1     *1   \n",
       "4  Charmeleon   #005     *1  *0.5    *2       *1   *0.5  *0.5       *1     *1   \n",
       "\n",
       "  Ground Flying Psychic   Bug Rock Ghost Dragon Dark Steel Fairy  \n",
       "0     *1     *2      *2    *1   *1    *1     *1   *1    *1  *0.5  \n",
       "1     *1     *2      *2    *1   *1    *1     *1   *1    *1  *0.5  \n",
       "2     *1     *2      *2    *1   *1    *1     *1   *1    *1  *0.5  \n",
       "3     *2     *1      *1  *0.5   *2    *1     *1   *1  *0.5  *0.5  \n",
       "4     *2     *1      *1  *0.5   *2    *1     *1   *1  *0.5  *0.5  "
      ]
     },
     "execution_count": 197,
     "metadata": {},
     "output_type": "execute_result"
    }
   ],
   "source": [
    "pokemon_dataset.head()"
   ]
  },
  {
   "cell_type": "markdown",
   "id": "2c2c1fc9",
   "metadata": {},
   "source": [
    "# Objectius"
   ]
  },
  {
   "cell_type": "markdown",
   "id": "efdd1cad",
   "metadata": {},
   "source": [
    "Per a un entrenador Pokemon, podria ser interessant resoldre alguna de les seguents preguntes:\n",
    "- Donat un pokemon saber per a quins rivals son més forts, més debils o igualats en forçes\n",
    "- Quins tipus de pokemon son mes forts respecte als altres?\n",
    "- Quins tipus de pokemon son mes debils respecte als altres?\n",
    "- Quin equip de Pokemons podem escollir per minimitzar les debilitats i maximitzar les forçes?\n",
    "\n",
    "Seria interessant utilitzar clustering per adivinar quins son els grups de tipus de pokemon que fossin la combinació més forta o més debil.\n"
   ]
  },
  {
   "cell_type": "markdown",
   "id": "252284b2",
   "metadata": {},
   "source": [
    "# Preparant les dades"
   ]
  },
  {
   "cell_type": "markdown",
   "id": "acade77d",
   "metadata": {},
   "source": [
    "Com hem vist en la comanda head(), les dades es troben amb un format\n",
    "que no ens interessa per a les seguents fases, ja que el ID te un simbol (#) abans del numero, i els multiplicadors venen precedits per el simbol (*):"
   ]
  },
  {
   "cell_type": "code",
   "execution_count": 198,
   "id": "de8104b4",
   "metadata": {},
   "outputs": [
    {
     "name": "stdout",
     "output_type": "stream",
     "text": [
      "[['Bulbasaur' '#001' '*1' ... '*1' '*1' '*0.5']\n",
      " ['Ivysaur' '#002' '*1' ... '*1' '*1' '*0.5']\n",
      " ['Venusaur' '#003' '*1' ... '*1' '*1' '*0.5']\n",
      " ...\n",
      " ['Urshifu' '#892' '*1' ... '*0.25' '*1' '*4']\n",
      " ['Urshifu Rapid Strike' '#892' '*1' ... '*0.5' '*0.5' '*2']\n",
      " ['Zarude' '#893' '*1' ... '*0.5' '*1' '*2']]\n"
     ]
    }
   ],
   "source": [
    "print(pokemon_dataset.values)"
   ]
  },
  {
   "cell_type": "markdown",
   "id": "5d3a557e",
   "metadata": {},
   "source": [
    "Per tant, ens interessa desfer-nos d'aquests simbols."
   ]
  },
  {
   "cell_type": "code",
   "execution_count": 199,
   "id": "6abc106b",
   "metadata": {},
   "outputs": [
    {
     "name": "stdout",
     "output_type": "stream",
     "text": [
      "[['Bulbasaur' '001' '1' ... '1' '1' '0.5']\n",
      " ['Ivysaur' '002' '1' ... '1' '1' '0.5']\n",
      " ['Venusaur' '003' '1' ... '1' '1' '0.5']\n",
      " ...\n",
      " ['Urshifu' '892' '1' ... '0.25' '1' '4']\n",
      " ['Urshifu Rapid Strike' '892' '1' ... '0.5' '0.5' '2']\n",
      " ['Zarude' '893' '1' ... '0.5' '1' '2']]\n"
     ]
    }
   ],
   "source": [
    "for fila in pokemon_data:\n",
    "    fila[1] = fila[1].replace(\"#\", \"\")\n",
    "    for i in range(2, 20):\n",
    "        fila[i] = fila[i].replace(\"*\", \"\")\n",
    "print(pokemon_data)"
   ]
  },
  {
   "cell_type": "markdown",
   "id": "b73dac56",
   "metadata": {},
   "source": [
    "Un cop Netejades les dades, cal mirar si hi ha alguns valors NaN o no:"
   ]
  },
  {
   "cell_type": "code",
   "execution_count": 200,
   "id": "92ea52a8",
   "metadata": {},
   "outputs": [
    {
     "name": "stdout",
     "output_type": "stream",
     "text": [
      "Name        0\n",
      "Number      0\n",
      "Normal      0\n",
      "Fire        0\n",
      "Water       0\n",
      "Electric    0\n",
      "Grass       0\n",
      "Ice         0\n",
      "Fighting    0\n",
      "Poison      0\n",
      "Ground      0\n",
      "Flying      0\n",
      "Psychic     0\n",
      "Bug         0\n",
      "Rock        0\n",
      "Ghost       0\n",
      "Dragon      0\n",
      "Dark        0\n",
      "Steel       0\n",
      "Fairy       0\n",
      "dtype: int64\n"
     ]
    }
   ],
   "source": [
    "print(pokemon_dataset.isnull().sum())"
   ]
  },
  {
   "cell_type": "markdown",
   "id": "3733a7ed",
   "metadata": {},
   "source": [
    "Veiem que no hi ha cap valor NaN o Null. \n",
    "\n",
    "Tot i aixi encara hem de passar els atributs de multiplicadors a floats, ja que ara mateix son strings"
   ]
  },
  {
   "cell_type": "code",
   "execution_count": 201,
   "id": "7b793194",
   "metadata": {},
   "outputs": [
    {
     "name": "stdout",
     "output_type": "stream",
     "text": [
      "CREEM UN DICCIONARI AMB:\n",
      "KEY = ID_POKEMON (POKEDEX)\n",
      "VALUE = PAIR(NOM_POKEMON, ARRAY_MULTIPLICADORS)\n",
      "\n",
      "Per exemple, per al Pokemon amb ID = 1, tenim:\n",
      "('Bulbasaur', array([1.  , 2.  , 0.5 , 0.5 , 0.25, 2.  , 0.5 , 1.  , 1.  , 2.  , 2.  ,\n",
      "       1.  , 1.  , 1.  , 1.  , 1.  , 1.  , 0.5 ]))\n"
     ]
    }
   ],
   "source": [
    "print(\"CREEM UN DICCIONARI AMB:\")\n",
    "print(\"KEY = ID_POKEMON (POKEDEX)\")\n",
    "print(\"VALUE = PAIR(NOM_POKEMON, ARRAY_MULTIPLICADORS)\\n\")\n",
    "pokemon_data_float = np.array(pokemon_data[:, 2:20]).astype(float)\n",
    "pokemon_data_dict = dict(zip(pokemon_data[:, 1].astype(int), zip(pokemon_data[:, 0],pokemon_data_float)))\n",
    "print(\"Per exemple, per al Pokemon amb ID = 1, tenim:\")\n",
    "print(pokemon_data_dict[1])"
   ]
  },
  {
   "cell_type": "code",
   "execution_count": 202,
   "id": "79f63f6a",
   "metadata": {},
   "outputs": [
    {
     "data": {
      "text/html": [
       "<div>\n",
       "<style scoped>\n",
       "    .dataframe tbody tr th:only-of-type {\n",
       "        vertical-align: middle;\n",
       "    }\n",
       "\n",
       "    .dataframe tbody tr th {\n",
       "        vertical-align: top;\n",
       "    }\n",
       "\n",
       "    .dataframe thead th {\n",
       "        text-align: right;\n",
       "    }\n",
       "</style>\n",
       "<table border=\"1\" class=\"dataframe\">\n",
       "  <thead>\n",
       "    <tr style=\"text-align: right;\">\n",
       "      <th></th>\n",
       "      <th>Name</th>\n",
       "      <th>Number</th>\n",
       "      <th>Normal</th>\n",
       "      <th>Fire</th>\n",
       "      <th>Water</th>\n",
       "      <th>Electric</th>\n",
       "      <th>Grass</th>\n",
       "      <th>Ice</th>\n",
       "      <th>Fighting</th>\n",
       "      <th>Poison</th>\n",
       "      <th>Ground</th>\n",
       "      <th>Flying</th>\n",
       "      <th>Psychic</th>\n",
       "      <th>Bug</th>\n",
       "      <th>Rock</th>\n",
       "      <th>Ghost</th>\n",
       "      <th>Dragon</th>\n",
       "      <th>Dark</th>\n",
       "      <th>Steel</th>\n",
       "      <th>Fairy</th>\n",
       "    </tr>\n",
       "  </thead>\n",
       "  <tbody>\n",
       "    <tr>\n",
       "      <th>count</th>\n",
       "      <td>576</td>\n",
       "      <td>576</td>\n",
       "      <td>576</td>\n",
       "      <td>576</td>\n",
       "      <td>576</td>\n",
       "      <td>576</td>\n",
       "      <td>576</td>\n",
       "      <td>576</td>\n",
       "      <td>576</td>\n",
       "      <td>576</td>\n",
       "      <td>576</td>\n",
       "      <td>576</td>\n",
       "      <td>576</td>\n",
       "      <td>576</td>\n",
       "      <td>576</td>\n",
       "      <td>576</td>\n",
       "      <td>576</td>\n",
       "      <td>576</td>\n",
       "      <td>576</td>\n",
       "      <td>576</td>\n",
       "    </tr>\n",
       "    <tr>\n",
       "      <th>unique</th>\n",
       "      <td>576</td>\n",
       "      <td>540</td>\n",
       "      <td>3</td>\n",
       "      <td>5</td>\n",
       "      <td>5</td>\n",
       "      <td>6</td>\n",
       "      <td>5</td>\n",
       "      <td>5</td>\n",
       "      <td>6</td>\n",
       "      <td>6</td>\n",
       "      <td>5</td>\n",
       "      <td>5</td>\n",
       "      <td>6</td>\n",
       "      <td>5</td>\n",
       "      <td>5</td>\n",
       "      <td>5</td>\n",
       "      <td>4</td>\n",
       "      <td>5</td>\n",
       "      <td>5</td>\n",
       "      <td>5</td>\n",
       "    </tr>\n",
       "    <tr>\n",
       "      <th>top</th>\n",
       "      <td>Bulbasaur</td>\n",
       "      <td>479</td>\n",
       "      <td>1</td>\n",
       "      <td>1</td>\n",
       "      <td>1</td>\n",
       "      <td>1</td>\n",
       "      <td>1</td>\n",
       "      <td>1</td>\n",
       "      <td>1</td>\n",
       "      <td>1</td>\n",
       "      <td>1</td>\n",
       "      <td>1</td>\n",
       "      <td>1</td>\n",
       "      <td>1</td>\n",
       "      <td>1</td>\n",
       "      <td>1</td>\n",
       "      <td>1</td>\n",
       "      <td>1</td>\n",
       "      <td>1</td>\n",
       "      <td>1</td>\n",
       "    </tr>\n",
       "    <tr>\n",
       "      <th>freq</th>\n",
       "      <td>1</td>\n",
       "      <td>6</td>\n",
       "      <td>462</td>\n",
       "      <td>263</td>\n",
       "      <td>315</td>\n",
       "      <td>299</td>\n",
       "      <td>227</td>\n",
       "      <td>265</td>\n",
       "      <td>220</td>\n",
       "      <td>330</td>\n",
       "      <td>320</td>\n",
       "      <td>351</td>\n",
       "      <td>359</td>\n",
       "      <td>260</td>\n",
       "      <td>319</td>\n",
       "      <td>368</td>\n",
       "      <td>457</td>\n",
       "      <td>360</td>\n",
       "      <td>301</td>\n",
       "      <td>368</td>\n",
       "    </tr>\n",
       "  </tbody>\n",
       "</table>\n",
       "</div>"
      ],
      "text/plain": [
       "             Name Number Normal Fire Water Electric Grass  Ice Fighting  \\\n",
       "count         576    576    576  576   576      576   576  576      576   \n",
       "unique        576    540      3    5     5        6     5    5        6   \n",
       "top     Bulbasaur    479      1    1     1        1     1    1        1   \n",
       "freq            1      6    462  263   315      299   227  265      220   \n",
       "\n",
       "       Poison Ground Flying Psychic  Bug Rock Ghost Dragon Dark Steel Fairy  \n",
       "count     576    576    576     576  576  576   576    576  576   576   576  \n",
       "unique      6      5      5       6    5    5     5      4    5     5     5  \n",
       "top         1      1      1       1    1    1     1      1    1     1     1  \n",
       "freq      330    320    351     359  260  319   368    457  360   301   368  "
      ]
     },
     "execution_count": 202,
     "metadata": {},
     "output_type": "execute_result"
    }
   ],
   "source": [
    "pokemon_dataset.describe()"
   ]
  },
  {
   "cell_type": "code",
   "execution_count": 222,
   "id": "376d9298",
   "metadata": {},
   "outputs": [
    {
     "name": "stdout",
     "output_type": "stream",
     "text": [
      "valors unics per a multiplicadors de tipus Normal\n",
      "['1' '0.5' '0']\n",
      "valors unics per a multiplicadors de tipus Fire\n",
      "['2' '0.5' '1' '4' '0.25']\n",
      "valors unics per a multiplicadors de tipus Water\n",
      "['0.5' '2' '1' '4' '0.25']\n",
      "valors unics per a multiplicadors de tipus Electric\n",
      "['0.5' '1' '2' '0' '0.25' '4']\n",
      "valors unics per a multiplicadors de tipus Grass\n",
      "['0.25' '0.5' '2' '1' '4']\n",
      "valors unics per a multiplicadors de tipus Ice\n",
      "['2' '0.5' '1' '0.25' '4']\n",
      "valors unics per a multiplicadors de tipus Fighting\n",
      "['0.5' '1' '0.25' '4' '2' '0']\n",
      "valors unics per a multiplicadors de tipus Poison\n",
      "['1' '0.5' '0' '2' '0.25' '4']\n",
      "valors unics per a multiplicadors de tipus Ground\n",
      "['1' '2' '0' '0.5' '4']\n",
      "valors unics per a multiplicadors de tipus Flying\n",
      "['2' '1' '0.5' '0.25' '4']\n",
      "valors unics per a multiplicadors de tipus Psychic\n",
      "['2' '1' '0.5' '0' '0.25' '4']\n",
      "valors unics per a multiplicadors de tipus Bug\n",
      "['1' '0.5' '0.25' '2' '4']\n",
      "valors unics per a multiplicadors de tipus Rock\n",
      "['1' '2' '4' '0.5' '0.25']\n",
      "valors unics per a multiplicadors de tipus Ghost\n",
      "['1' '2' '0' '0.5' '4']\n",
      "valors unics per a multiplicadors de tipus Dragon\n",
      "['1' '0.5' '0' '2']\n",
      "valors unics per a multiplicadors de tipus Dark\n",
      "['1' '2' '0.5' '0.25' '4']\n",
      "valors unics per a multiplicadors de tipus Steel\n",
      "['1' '0.5' '2' '4' '0.25']\n",
      "valors unics per a multiplicadors de tipus Fairy\n",
      "['0.5' '1' '2' '4' '0.25']\n"
     ]
    }
   ],
   "source": [
    "tots_unics = pd.DataFrame()\n",
    "freq_multiplicadors = pd.Series(np.array([0, 0, 0, 0, 0, 0]), index=['0', '0.25', '0.5', '1', '2', '4'])\n",
    "\n",
    "for key in pokemon_dataset.keys()[2:20]:\n",
    "    print(\"valors unics per a multiplicadors de tipus \" + key)\n",
    "    tots_unics = tots_unics.append(pd.DataFrame(pokemon_dataset[key].unique()))\n",
    "    print(pokemon_dataset[key].unique())\n",
    "    freq_multiplicadors = freq_multiplicadors.add(pokemon_dataset[key].value_counts() / pokemon_dataset.shape[0], fill_value=0)   "
   ]
  },
  {
   "cell_type": "code",
   "execution_count": 223,
   "id": "48c20494",
   "metadata": {},
   "outputs": [
    {
     "name": "stdout",
     "output_type": "stream",
     "text": [
      "VALORS UNICS POSSIBLES QUE PODEN PENDRE TOTS ELS MULTIPLICADORS:\n",
      "['0' '0.25' '0.5' '1' '2' '4']\n"
     ]
    }
   ],
   "source": [
    "print(\"VALORS UNICS POSSIBLES QUE PODEN PENDRE TOTS ELS MULTIPLICADORS:\")\n",
    "print(np.unique(tots_unics.to_numpy()))"
   ]
  },
  {
   "cell_type": "code",
   "execution_count": 224,
   "id": "b1d2923e",
   "metadata": {},
   "outputs": [
    {
     "name": "stdout",
     "output_type": "stream",
     "text": [
      "Frequencies de aparicio de cada tipus de pokemon\n",
      "0       0.037133\n",
      "0.25    0.018519\n",
      "0.5     0.199846\n",
      "1       0.563657\n",
      "2       0.169560\n",
      "4       0.011285\n",
      "dtype: float64\n"
     ]
    }
   ],
   "source": [
    "print('Frequencies de aparicio de cada tipus de pokemon')\n",
    "freq_multiplicadors = freq_multiplicadors/n_tipus\n",
    "print(freq_multiplicadors)\n"
   ]
  },
  {
   "cell_type": "markdown",
   "id": "e334664a",
   "metadata": {},
   "source": [
    "Com podem veure els multiplicadors tenen les seguents frequencies:  \n",
    "*0------------3.71%  (INVULNERABLE)  \n",
    "*0.25-------1.85%  (ATAC MOLT POC EFECTIU)  \n",
    "*0.5---------19.99% (ATAC POC EFECTIU)  \n",
    "*1------------56.37% (ATAC AMB EFECTIVITAT NORMAL)  \n",
    "*2------------16.95% (ATAC EFECTIU)  \n",
    "*4------------1.12%  (ATAC MOLT EFECTIU)  \n",
    "Concluim que la majoria de pokemons tenen multiplicadors de 0.5, 1 o 2\n",
    "Mentre que en casos molt extranys tenen 0, 0.25 o 4\n",
    "\n",
    "Un pokemon te atacs mes forts si el seu multiplicador es superior a 1, iguals si es exactament 1, i inferiors si es inferior a 1"
   ]
  },
  {
   "cell_type": "code",
   "execution_count": null,
   "id": "c269ed02",
   "metadata": {},
   "outputs": [],
   "source": []
  },
  {
   "cell_type": "code",
   "execution_count": null,
   "id": "07fe2efd",
   "metadata": {},
   "outputs": [],
   "source": []
  }
 ],
 "metadata": {
  "kernelspec": {
   "display_name": "Python 3 (ipykernel)",
   "language": "python",
   "name": "python3"
  },
  "language_info": {
   "codemirror_mode": {
    "name": "ipython",
    "version": 3
   },
   "file_extension": ".py",
   "mimetype": "text/x-python",
   "name": "python",
   "nbconvert_exporter": "python",
   "pygments_lexer": "ipython3",
   "version": "3.9.7"
  }
 },
 "nbformat": 4,
 "nbformat_minor": 5
}
